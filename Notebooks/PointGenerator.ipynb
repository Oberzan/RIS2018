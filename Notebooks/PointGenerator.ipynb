{
 "cells": [
  {
   "cell_type": "code",
   "execution_count": 14,
   "metadata": {},
   "outputs": [],
   "source": [
    "import matplotlib.pyplot as plt\n",
    "import numpy as np\n",
    "from random import randint\n",
    "import cv2\n",
    "%matplotlib inline"
   ]
  },
  {
   "cell_type": "code",
   "execution_count": 24,
   "metadata": {},
   "outputs": [],
   "source": [
    "def erode_image(img, erosion_factor):\n",
    "    kernel = np.ones((erosion_factor, erosion_factor), np.uint8)\n",
    "    return cv2.erode(img, kernel, iterations=1)\n",
    "\n",
    "def generate_goals(img, step, offset_x=0, offset_y=0):\n",
    "    height, width = img.shape\n",
    "    goals = set()\n",
    "    for y in range(step, height, step):\n",
    "        for x in range(step, width, step):\n",
    "            \n",
    "            inner_y = y + offset_y\n",
    "            inner_x = x + offset_x\n",
    "            \n",
    "            if inner_y < img.shape[0] and inner_x < img.shape[1] and img[inner_y][inner_x] > 250:\n",
    "                goals.add((inner_x, inner_y))\n",
    "                \n",
    "    goals.add((33, 92))\n",
    "    goals.add((13, 98))\n",
    "    goals.add((45, 80))\n",
    "    return goals\n",
    "\n",
    "def draw_with_goals(img, goals):\n",
    "    goal_img = img.copy()\n",
    "    for p in goals:\n",
    "        cv2.circle(goal_img, (p[0], p[1]), 2, (0, 255, 0), -1)\n",
    "    plt.imshow(goal_img, cmap='gray')"
   ]
  },
  {
   "cell_type": "code",
   "execution_count": 25,
   "metadata": {},
   "outputs": [
    {
     "data": {
      "text/plain": [
       "<matplotlib.image.AxesImage at 0x116873908>"
      ]
     },
     "execution_count": 25,
     "metadata": {},
     "output_type": "execute_result"
    },
    {
     "data": {
      "image/png": "[encoded data removed]",
      "text/plain": [
       "<Figure size 432x288 with 1 Axes>"
      ]
     },
     "metadata": {},
     "output_type": "display_data"
    }
   ],
   "source": [
    "img = cv2.imread('../maps/bigMap.pgm', 0)\n",
    "plt.imshow(img, cmap='gray')"
   ]
  },
  {
   "cell_type": "code",
   "execution_count": 26,
   "metadata": {},
   "outputs": [
    {
     "data": {
      "text/plain": [
       "<matplotlib.image.AxesImage at 0x116912ba8>"
      ]
     },
     "execution_count": 26,
     "metadata": {},
     "output_type": "execute_result"
    },
    {
     "data": {
      "image/png": "[encoded data removed]",
      "text/plain": [
       "<Figure size 432x288 with 1 Axes>"
      ]
     },
     "metadata": {},
     "output_type": "display_data"
    }
   ],
   "source": [
    "eroded = erode_image(img, 13)\n",
    "plt.imshow(eroded, cmap='gray')"
   ]
  },
  {
   "cell_type": "code",
   "execution_count": 27,
   "metadata": {},
   "outputs": [
    {
     "data": {
      "image/png": "[encoded data removed]",
      "text/plain": [
       "<Figure size 432x288 with 1 Axes>"
      ]
     },
     "metadata": {},
     "output_type": "display_data"
    }
   ],
   "source": [
    "goals = generate_goals(eroded, 11, offset_x=7, offset_y=-5)\n",
    "draw_with_goals(img, goals)"
   ]
  },
  {
   "cell_type": "code",
   "execution_count": null,
   "metadata": {},
   "outputs": [],
   "source": []
  },
  {
   "cell_type": "code",
   "execution_count": null,
   "metadata": {},
   "outputs": [],
   "source": []
  },
  {
   "cell_type": "code",
   "execution_count": null,
   "metadata": {},
   "outputs": [],
   "source": []
  }
 ],
 "metadata": {
  "kernelspec": {
   "display_name": "Python 3",
   "language": "python",
   "name": "python3"
  },
  "language_info": {
   "codemirror_mode": {
    "name": "ipython",
    "version": 3
   },
   "file_extension": ".py",
   "mimetype": "text/x-python",
   "name": "python",
   "nbconvert_exporter": "python",
   "pygments_lexer": "ipython3",
   "version": "3.6.4"
  }
 },
 "nbformat": 4,
 "nbformat_minor": 2
}
