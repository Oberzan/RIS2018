{
 "cells": [
  {
   "cell_type": "code",
   "execution_count": 148,
   "metadata": {},
   "outputs": [],
   "source": [
    "import matplotlib.pyplot as plt\n",
    "import numpy as np\n",
    "from random import randint\n",
    "import cv2\n",
    "%matplotlib inline"
   ]
  },
  {
   "cell_type": "code",
   "execution_count": 169,
   "metadata": {},
   "outputs": [],
   "source": [
    "def erode_image(img, erosion_factor):\n",
    "    kernel = np.ones((erosion_factor, erosion_factor), np.uint8)\n",
    "    return cv2.erode(img, kernel, iterations=1)\n",
    "\n",
    "def generate_goals(img, step, random_offset=None):\n",
    "    height, width = img.shape\n",
    "    goals = set()\n",
    "    for y in range(step, height, step):\n",
    "        for x in range(step, width, step):\n",
    "            if img[y][x] > 250:\n",
    "                inner_y = y\n",
    "                inner_x = x\n",
    "                if y < 40 and y > 30:\n",
    "                    inner_y += 1\n",
    "                if y < 30 and x > 30 and x < 40:\n",
    "                    inner_x += 2\n",
    "                if x > 30:\n",
    "                    inner_x -= 2\n",
    "                if y > 80:\n",
    "                    inner_y += 3\n",
    "                if y > 40 and y < 60:\n",
    "                    inner_y -= 2\n",
    "                if y > 65 and x > 20 and x < 30:\n",
    "                    inner_x -= 2\n",
    "                    \n",
    "                goals.add((inner_x, inner_y))\n",
    "    goals.add((35, 92))\n",
    "    return goals\n",
    "\n",
    "def draw_with_goals(img, goals):\n",
    "    goal_img = img.copy()\n",
    "    for p in goals:\n",
    "        cv2.circle(goal_img, (p[0], p[1]), 2, (0, 255, 0), -1)\n",
    "    plt.imshow(goal_img, cmap='gray')"
   ]
  },
  {
   "cell_type": "code",
   "execution_count": 170,
   "metadata": {},
   "outputs": [
    {
     "data": {
      "text/plain": [
       "<matplotlib.image.AxesImage at 0x10ed4f940>"
      ]
     },
     "execution_count": 170,
     "metadata": {},
     "output_type": "execute_result"
    },
    {
     "data": {
      "image/png": "[encoded data removed]",
      "text/plain": [
       "<Figure size 432x288 with 1 Axes>"
      ]
     },
     "metadata": {},
     "output_type": "display_data"
    }
   ],
   "source": [
    "img = cv2.imread('../maps/bigMap.pgm', 0)\n",
    "plt.imshow(img, cmap='gray')"
   ]
  },
  {
   "cell_type": "code",
   "execution_count": 171,
   "metadata": {},
   "outputs": [
    {
     "data": {
      "text/plain": [
       "<matplotlib.image.AxesImage at 0x10f47bbe0>"
      ]
     },
     "execution_count": 171,
     "metadata": {},
     "output_type": "execute_result"
    },
    {
     "data": {
      "image/png": "[encoded data removed]",
      "text/plain": [
       "<Figure size 432x288 with 1 Axes>"
      ]
     },
     "metadata": {},
     "output_type": "display_data"
    }
   ],
   "source": [
    "eroded = erode_image(img, 10)\n",
    "plt.imshow(eroded, cmap='gray')"
   ]
  },
  {
   "cell_type": "code",
   "execution_count": 172,
   "metadata": {},
   "outputs": [
    {
     "data": {
      "image/png": "[encoded data removed]",
      "text/plain": [
       "<Figure size 432x288 with 1 Axes>"
      ]
     },
     "metadata": {},
     "output_type": "display_data"
    }
   ],
   "source": [
    "goals = generate_goals(eroded, 12)\n",
    "draw_with_goals(img, goals)"
   ]
  },
  {
   "cell_type": "code",
   "execution_count": null,
   "metadata": {},
   "outputs": [],
   "source": []
  },
  {
   "cell_type": "code",
   "execution_count": null,
   "metadata": {},
   "outputs": [],
   "source": []
  },
  {
   "cell_type": "code",
   "execution_count": null,
   "metadata": {},
   "outputs": [],
   "source": []
  }
 ],
 "metadata": {
  "kernelspec": {
   "display_name": "Python 3",
   "language": "python",
   "name": "python3"
  },
  "language_info": {
   "codemirror_mode": {
    "name": "ipython",
    "version": 3
   },
   "file_extension": ".py",
   "mimetype": "text/x-python",
   "name": "python",
   "nbconvert_exporter": "python",
   "pygments_lexer": "ipython3",
   "version": "3.6.4"
  }
 },
 "nbformat": 4,
 "nbformat_minor": 2
}
