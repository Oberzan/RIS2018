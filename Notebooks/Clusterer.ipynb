{
 "cells": [
  {
   "cell_type": "code",
   "execution_count": 127,
   "metadata": {},
   "outputs": [],
   "source": []
  },
  {
   "cell_type": "code",
   "execution_count": 193,
   "metadata": {},
   "outputs": [],
   "source": [
    "class ClusterPoint():\n",
    "    def __init__(self, x, y, n):\n",
    "        self.x = x\n",
    "        self.y = y\n",
    "        self.n = n\n",
    "        \n",
    "    def __str__(self):\n",
    "        return \"[x: {}, y: {}, n: {}]\".format(self.x, self.y, self.n)\n",
    "    \n",
    "    def __repr__(self):\n",
    "        return self.__str__()\n",
    "    \n",
    "    def move_center(self, p):\n",
    "        new_x = (self.n * self.x + p.x) / (self.n + 1)\n",
    "        new_y = (self.n * self.y + p.y) / (self.n + 1)\n",
    "        return ClusterPoint(new_x, new_y, self.n + 1)\n",
    "    \n",
    "def point_distance(p1, p2):\n",
    "    return ((p1.x - p2.x)**2 + (p1.y - p2.y)**2)**0.5"
   ]
  },
  {
   "cell_type": "code",
   "execution_count": 194,
   "metadata": {},
   "outputs": [],
   "source": [
    "class Clusterer():\n",
    "\n",
    "    def __init__(self):\n",
    "        self.centers = []\n",
    "        self.CENTER_THRESHOLD = 0.1\n",
    "        self.MIN_CENTER_DETECTIONS = 10\n",
    "        \n",
    "    def point_callback(self, p):\n",
    "\n",
    "        closest_center = None\n",
    "        min_dist = 999999999\n",
    "        ix = 0\n",
    "        \n",
    "        for center_ix, center in enumerate(self.centers):\n",
    "            dist = point_distance(p, center)\n",
    "            if dist < min_dist and dist < self.CENTER_THRESHOLD:\n",
    "                if closest_center:\n",
    "                    print(\"Detected in multiple centers\")\n",
    "\n",
    "                closest_center = center\n",
    "                min_dist = dist\n",
    "                ix = center_ix\n",
    "\n",
    "        if closest_center:\n",
    "            n = closest_center.n\n",
    "            if n >= self.MIN_CENTER_DETECTIONS:\n",
    "                return\n",
    "\n",
    "            print(\"Updating center\")\n",
    "            self.centers[ix] = closest_center.move_center(p)\n",
    "                        \n",
    "            if n + 1 == self.MIN_CENTER_DETECTIONS:\n",
    "                print(\"Publishing center of a circle at x: {}, y: {}\".format(new_x, new_y))\n",
    "                ## self.publisher.publish(...)\n",
    "        else:\n",
    "            self.centers.append(ClusterPoint(p.x, p.y, 1))\n",
    "            print(\"Adding new center\")\n",
    "        "
   ]
  },
  {
   "cell_type": "code",
   "execution_count": 195,
   "metadata": {},
   "outputs": [],
   "source": [
    "clusterer = Clusterer()"
   ]
  },
  {
   "cell_type": "code",
   "execution_count": 196,
   "metadata": {},
   "outputs": [
    {
     "name": "stdout",
     "output_type": "stream",
     "text": [
      "Adding new center\n"
     ]
    }
   ],
   "source": [
    "clusterer.point_callback(ClusterPoint(2,5, 0))"
   ]
  },
  {
   "cell_type": "code",
   "execution_count": 197,
   "metadata": {},
   "outputs": [
    {
     "name": "stdout",
     "output_type": "stream",
     "text": [
      "[[x: 2, y: 5, n: 1]]\n"
     ]
    }
   ],
   "source": [
    "print(clusterer.centers)"
   ]
  },
  {
   "cell_type": "code",
   "execution_count": 202,
   "metadata": {},
   "outputs": [
    {
     "name": "stdout",
     "output_type": "stream",
     "text": [
      "Updating center\n"
     ]
    }
   ],
   "source": [
    "clusterer.point_callback(ClusterPoint(2,5, 0))"
   ]
  },
  {
   "cell_type": "code",
   "execution_count": 204,
   "metadata": {},
   "outputs": [
    {
     "name": "stdout",
     "output_type": "stream",
     "text": [
      "[[x: 2.0, y: 5.0, n: 2]]\n"
     ]
    }
   ],
   "source": [
    "print(clusterer.centers)"
   ]
  },
  {
   "cell_type": "code",
   "execution_count": 205,
   "metadata": {},
   "outputs": [
    {
     "name": "stdout",
     "output_type": "stream",
     "text": [
      "Updating center\n"
     ]
    }
   ],
   "source": [
    "clusterer.point_callback(ClusterPoint(2,5.01, 0))"
   ]
  },
  {
   "cell_type": "code",
   "execution_count": 206,
   "metadata": {},
   "outputs": [
    {
     "name": "stdout",
     "output_type": "stream",
     "text": [
      "[[x: 2.0, y: 5.003333333333333, n: 3]]\n"
     ]
    }
   ],
   "source": [
    "print(clusterer.centers)"
   ]
  },
  {
   "cell_type": "code",
   "execution_count": 207,
   "metadata": {},
   "outputs": [
    {
     "name": "stdout",
     "output_type": "stream",
     "text": [
      "Adding new center\n"
     ]
    }
   ],
   "source": [
    "clusterer.point_callback(ClusterPoint(2, 6, 0))"
   ]
  },
  {
   "cell_type": "code",
   "execution_count": 208,
   "metadata": {},
   "outputs": [
    {
     "name": "stdout",
     "output_type": "stream",
     "text": [
      "[[x: 2.0, y: 5.003333333333333, n: 3], [x: 2, y: 6, n: 1]]\n"
     ]
    }
   ],
   "source": [
    "print(clusterer.centers)"
   ]
  },
  {
   "cell_type": "code",
   "execution_count": 211,
   "metadata": {},
   "outputs": [
    {
     "name": "stdout",
     "output_type": "stream",
     "text": [
      "Adding new center\n"
     ]
    }
   ],
   "source": [
    "clusterer.point_callback(ClusterPoint(2,7, 0))"
   ]
  },
  {
   "cell_type": "code",
   "execution_count": 212,
   "metadata": {},
   "outputs": [
    {
     "name": "stdout",
     "output_type": "stream",
     "text": [
      "[[x: 2.0, y: 5.003333333333333, n: 3], [x: 2, y: 6, n: 1], [x: 2, y: 7, n: 1]]\n"
     ]
    }
   ],
   "source": [
    "print(clusterer.centers)"
   ]
  },
  {
   "cell_type": "code",
   "execution_count": 213,
   "metadata": {},
   "outputs": [
    {
     "name": "stdout",
     "output_type": "stream",
     "text": [
      "Updating center\n"
     ]
    }
   ],
   "source": [
    "clusterer.point_callback(ClusterPoint(2, 6.01, 0))"
   ]
  },
  {
   "cell_type": "code",
   "execution_count": 214,
   "metadata": {},
   "outputs": [
    {
     "name": "stdout",
     "output_type": "stream",
     "text": [
      "[[x: 2.0, y: 5.003333333333333, n: 3], [x: 2.0, y: 6.005, n: 2], [x: 2, y: 7, n: 1]]\n"
     ]
    }
   ],
   "source": [
    "print(clusterer.centers)"
   ]
  },
  {
   "cell_type": "code",
   "execution_count": 215,
   "metadata": {},
   "outputs": [
    {
     "name": "stdout",
     "output_type": "stream",
     "text": [
      "Updating center\n"
     ]
    }
   ],
   "source": [
    "clusterer.point_callback(ClusterPoint(2.03, 7.02, 0))"
   ]
  },
  {
   "cell_type": "code",
   "execution_count": 216,
   "metadata": {},
   "outputs": [
    {
     "name": "stdout",
     "output_type": "stream",
     "text": [
      "[[x: 2.0, y: 5.003333333333333, n: 3], [x: 2.0, y: 6.005, n: 2], [x: 2.0149999999999997, y: 7.01, n: 2]]\n"
     ]
    }
   ],
   "source": [
    "print(clusterer.centers)"
   ]
  },
  {
   "cell_type": "code",
   "execution_count": null,
   "metadata": {},
   "outputs": [],
   "source": []
  }
 ],
 "metadata": {
  "kernelspec": {
   "display_name": "Python 3",
   "language": "python",
   "name": "python3"
  },
  "language_info": {
   "codemirror_mode": {
    "name": "ipython",
    "version": 3
   },
   "file_extension": ".py",
   "mimetype": "text/x-python",
   "name": "python",
   "nbconvert_exporter": "python",
   "pygments_lexer": "ipython3",
   "version": "3.6.4"
  }
 },
 "nbformat": 4,
 "nbformat_minor": 2
}
