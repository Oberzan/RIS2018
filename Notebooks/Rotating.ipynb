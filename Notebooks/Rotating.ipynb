{
 "cells": [
  {
   "cell_type": "code",
   "execution_count": 38,
   "metadata": {},
   "outputs": [],
   "source": [
    "import math\n",
    "import time\n",
    "\n",
    "\n",
    "def rotate(speed, angle, step_angle=45, clockwise=True, sleep_duration=2):\n",
    "    print(\"Started rotating\")\n",
    "    relative_angle = angle * 2 * math.pi / 360\n",
    "\n",
    "    # Setting the current time for distance calculus\n",
    "    current_angle = 0\n",
    "    num_stops = int(angle / step_angle)\n",
    "    relative_step_angle = step_angle * 2 * math.pi / 360\n",
    "    print(\"Angle completed in {} steps.\".format(num_stops))\n",
    "\n",
    "\n",
    "    while current_angle < relative_angle:\n",
    "        print(\"Target: {}\".format(current_angle + relative_step_angle))\n",
    "        \n",
    "\n",
    "        current_angle += rotate_inner(speed, step_angle, clockwise)\n",
    "\n",
    "        print(current_angle)\n",
    "\n",
    "        time.sleep(sleep_duration)\n",
    "\n",
    "    print(\"Finished rotating.\")\n"
   ]
  },
  {
   "cell_type": "code",
   "execution_count": 39,
   "metadata": {},
   "outputs": [],
   "source": [
    "def rotate_inner(speed, angle, clockwise=True):\n",
    "    angular_speed = speed * 2 * math.pi / 360\n",
    "    relative_angle = angle * 2 * math.pi / 360\n",
    "    actual_speed = -abs(angular_speed) if clockwise else abs(angular_speed)\n",
    "    t0 = time.time()\n",
    "    current_angle = 0\n",
    "\n",
    "    while current_angle < relative_angle:\n",
    "        t1 = time.time()\n",
    "        current_angle = angular_speed * (t1 - t0)\n",
    "        \n",
    "    print(\"Finished rotating.\")\n",
    "    \n",
    "    return current_angle\n",
    "    \n",
    "    "
   ]
  },
  {
   "cell_type": "code",
   "execution_count": 40,
   "metadata": {},
   "outputs": [
    {
     "name": "stdout",
     "output_type": "stream",
     "text": [
      "Started rotating\n",
      "Angle completed in 8 steps.\n",
      "Target: 0.7853981633974483\n",
      "Finished rotating.\n",
      "0.7853981633974483\n",
      "Target: 1.5707963267948966\n",
      "Finished rotating.\n",
      "1.5707963267948966\n",
      "Target: 2.356194490192345\n",
      "Finished rotating.\n",
      "2.356194490192345\n",
      "Target: 3.141592653589793\n",
      "Finished rotating.\n",
      "3.141592653589793\n",
      "Target: 3.9269908169872414\n",
      "Finished rotating.\n",
      "3.9269908169872414\n",
      "Target: 4.71238898038469\n",
      "Finished rotating.\n",
      "4.71238898038469\n",
      "Target: 5.497787143782138\n",
      "Finished rotating.\n",
      "5.497787143782138\n",
      "Target: 6.283185307179586\n",
      "Finished rotating.\n",
      "6.283185307179586\n",
      "Finished rotating.\n"
     ]
    }
   ],
   "source": [
    "rotate(30, 360)"
   ]
  },
  {
   "cell_type": "code",
   "execution_count": null,
   "metadata": {},
   "outputs": [],
   "source": []
  },
  {
   "cell_type": "code",
   "execution_count": null,
   "metadata": {},
   "outputs": [],
   "source": []
  }
 ],
 "metadata": {
  "kernelspec": {
   "display_name": "Python 3",
   "language": "python",
   "name": "python3"
  },
  "language_info": {
   "codemirror_mode": {
    "name": "ipython",
    "version": 3
   },
   "file_extension": ".py",
   "mimetype": "text/x-python",
   "name": "python",
   "nbconvert_exporter": "python",
   "pygments_lexer": "ipython3",
   "version": "3.6.4"
  }
 },
 "nbformat": 4,
 "nbformat_minor": 2
}
