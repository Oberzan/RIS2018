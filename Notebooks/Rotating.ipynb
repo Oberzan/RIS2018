{
 "cells": [
  {
   "cell_type": "code",
   "execution_count": 5,
   "metadata": {},
   "outputs": [],
   "source": [
    "import math\n",
    "import time\n",
    "\n",
    "\n",
    "def rotate(speed, angle, step_angle=45, clockwise=True, sleep_duration=2):\n",
    "    print(\"Started rotating\")\n",
    "    relative_angle = angle * 2 * math.pi / 360\n",
    "\n",
    "    # Setting the current time for distance calculus\n",
    "    current_angle = 0\n",
    "    num_stops = int(angle / step_angle)\n",
    "    relative_step_angle = step_angle * 2 * math.pi / 360\n",
    "    print(\"Angle completed in {} steps.\".format(num_stops))\n",
    "\n",
    "\n",
    "    while current_angle < relative_angle:\n",
    "        print(\"Target: {}\".format(current_angle + relative_step_angle))\n",
    "        \n",
    "\n",
    "        current_angle += rotate_inner(speed, step_angle, clockwise)\n",
    "\n",
    "        print(current_angle)\n",
    "\n",
    "        time.sleep(sleep_duration)\n",
    "\n",
    "    print(\"Finished rotating.\")\n"
   ]
  },
  {
   "cell_type": "code",
   "execution_count": 6,
   "metadata": {},
   "outputs": [],
   "source": [
    "def rotate_inner(speed, angle, clockwise=True):\n",
    "    angular_speed = speed * 2 * math.pi / 360\n",
    "    relative_angle = angle * 2 * math.pi / 360\n",
    "    actual_speed = -abs(angular_speed) if clockwise else abs(angular_speed)\n",
    "    t0 = time.time()\n",
    "    current_angle = 0\n",
    "\n",
    "    while current_angle < relative_angle:\n",
    "        t1 = time.time()\n",
    "        current_angle = angular_speed * (t1 - t0)\n",
    "        \n",
    "    print(\"Finished rotating.\")\n",
    "    \n",
    "    return current_angle\n",
    "    \n",
    "    "
   ]
  },
  {
   "cell_type": "code",
   "execution_count": 7,
   "metadata": {},
   "outputs": [
    {
     "name": "stdout",
     "output_type": "stream",
     "text": [
      "Started rotating\n",
      "Angle completed in 8 steps.\n",
      "Target: 0.7853981633974483\n",
      "Finished rotating.\n",
      "0.7853981633974483\n",
      "Target: 1.5707963267948966\n",
      "Finished rotating.\n",
      "1.5707963267948966\n",
      "Target: 2.356194490192345\n",
      "Finished rotating.\n",
      "2.356194490192345\n",
      "Target: 3.141592653589793\n",
      "Finished rotating.\n",
      "3.141592653589793\n",
      "Target: 3.9269908169872414\n",
      "Finished rotating.\n",
      "3.9269908169872414\n",
      "Target: 4.71238898038469\n",
      "Finished rotating.\n",
      "4.71238898038469\n",
      "Target: 5.497787143782138\n",
      "Finished rotating.\n",
      "5.497787143782138\n",
      "Target: 6.283185307179586\n",
      "Finished rotating.\n",
      "6.283185307179586\n",
      "Finished rotating.\n"
     ]
    }
   ],
   "source": [
    "rotate(30, 360)"
   ]
  },
  {
   "cell_type": "code",
   "execution_count": 8,
   "metadata": {},
   "outputs": [],
   "source": [
    "p1 = (1, 1)\n",
    "p2 = (2**(1/2)/2, 1)"
   ]
  },
  {
   "cell_type": "code",
   "execution_count": 9,
   "metadata": {},
   "outputs": [
    {
     "data": {
      "text/plain": [
       "0"
      ]
     },
     "execution_count": 9,
     "metadata": {},
     "output_type": "execute_result"
    }
   ],
   "source": [
    "p2[1] - p1[1]"
   ]
  },
  {
   "cell_type": "code",
   "execution_count": 10,
   "metadata": {},
   "outputs": [
    {
     "data": {
      "text/plain": [
       "-0.2928932188134524"
      ]
     },
     "execution_count": 10,
     "metadata": {},
     "output_type": "execute_result"
    }
   ],
   "source": [
    "p2[0] - p1[0]"
   ]
  },
  {
   "cell_type": "code",
   "execution_count": 11,
   "metadata": {},
   "outputs": [
    {
     "data": {
      "text/plain": [
       "180.0"
      ]
     },
     "execution_count": 11,
     "metadata": {},
     "output_type": "execute_result"
    }
   ],
   "source": [
    "math.degrees(math.atan2(p2[1] - p1[1], p2[0] - p1[0]))"
   ]
  },
  {
   "cell_type": "code",
   "execution_count": 12,
   "metadata": {},
   "outputs": [],
   "source": [
    "class Point():\n",
    "\n",
    "    def __init__(self, x, y, n):\n",
    "        self.x = x\n",
    "        self.y = y\n",
    "        self.n = n\n",
    "\n",
    "\n",
    "centers = [Point(1, 2, 5), Point(2, 3, 10), Point(5, 2, 6)]"
   ]
  },
  {
   "cell_type": "code",
   "execution_count": 13,
   "metadata": {},
   "outputs": [],
   "source": [
    "by_n = sorted(centers, key=lambda center: center.n, reverse=True)"
   ]
  },
  {
   "cell_type": "code",
   "execution_count": 14,
   "metadata": {},
   "outputs": [
    {
     "name": "stdout",
     "output_type": "stream",
     "text": [
      "[10, 6, 5]\n"
     ]
    }
   ],
   "source": [
    "print([p.n for p in by_n])"
   ]
  },
  {
   "cell_type": "code",
   "execution_count": 15,
   "metadata": {},
   "outputs": [
    {
     "data": {
      "text/plain": [
       "<generator object <genexpr> at 0x10ed77728>"
      ]
     },
     "execution_count": 15,
     "metadata": {},
     "output_type": "execute_result"
    }
   ],
   "source": [
    "((i,x) for (i,x) in enumerate([\"a\", \"b\"]))"
   ]
  },
  {
   "cell_type": "code",
   "execution_count": 18,
   "metadata": {},
   "outputs": [],
   "source": [
    "viewpoint = (-2.1, 0.6)\n",
    "goal = (-2.77, 0.53)\n",
    "angle = math.atan2(-(goal[1] - viewpoint[1]), -(goal[0] - viewpoint[0]))"
   ]
  },
  {
   "cell_type": "code",
   "execution_count": 19,
   "metadata": {},
   "outputs": [
    {
     "name": "stdout",
     "output_type": "stream",
     "text": [
      "-1.4666963918904008\n"
     ]
    }
   ],
   "source": [
    "\n",
    "shifted = angle - 1.57079633\n",
    "\n",
    "if shifted < -math.pi:\n",
    "    shifted = abs(shifted) % math.pi\n",
    "\n",
    "    \n",
    "print(shifted)"
   ]
  },
  {
   "cell_type": "code",
   "execution_count": 20,
   "metadata": {},
   "outputs": [],
   "source": [
    "viewpoint = (-1.35, -1.9)\n",
    "goal = (-1.43, -1.325)\n",
    "angle = math.atan2(-(goal[1] - viewpoint[1]), -(goal[0] - viewpoint[0]))"
   ]
  },
  {
   "cell_type": "code",
   "execution_count": 21,
   "metadata": {},
   "outputs": [
    {
     "name": "stdout",
     "output_type": "stream",
     "text": [
      "-3.0033496663171686\n"
     ]
    }
   ],
   "source": [
    "shifted = angle - 1.57079633\n",
    "\n",
    "if shifted < -math.pi:\n",
    "    shifted = abs(shifted) % math.pi\n",
    "\n",
    "    \n",
    "print(shifted)"
   ]
  },
  {
   "cell_type": "code",
   "execution_count": 22,
   "metadata": {},
   "outputs": [],
   "source": [
    "viewpoint = (-1, 1.7)\n",
    "goal = (-0.267, 1.627)\n",
    "angle = math.atan2(-(goal[1] - viewpoint[1]), -(goal[0] - viewpoint[0]))"
   ]
  },
  {
   "cell_type": "code",
   "execution_count": 23,
   "metadata": {},
   "outputs": [
    {
     "name": "stdout",
     "output_type": "stream",
     "text": [
      "1.471532912194914\n"
     ]
    }
   ],
   "source": [
    "shifted = angle - 1.57079633\n",
    "\n",
    "if shifted < -math.pi:\n",
    "    shifted = abs(shifted) % math.pi\n",
    "\n",
    "    \n",
    "print(shifted)"
   ]
  },
  {
   "cell_type": "code",
   "execution_count": 24,
   "metadata": {},
   "outputs": [],
   "source": [
    "viewpoint = (-2.1, 0.6)\n",
    "goal = (-2.26, 1.316)\n",
    "angle = math.atan2(-(goal[1] - viewpoint[1]), -(goal[0] - viewpoint[0]))"
   ]
  },
  {
   "cell_type": "code",
   "execution_count": 25,
   "metadata": {},
   "outputs": [
    {
     "name": "stdout",
     "output_type": "stream",
     "text": [
      "-2.9217409793612683\n"
     ]
    }
   ],
   "source": [
    "shifted = angle - 1.57079633\n",
    "\n",
    "if shifted < -math.pi:\n",
    "    shifted = abs(shifted) % math.pi\n",
    "\n",
    "    \n",
    "print(shifted)"
   ]
  },
  {
   "cell_type": "code",
   "execution_count": null,
   "metadata": {},
   "outputs": [],
   "source": []
  }
 ],
 "metadata": {
  "kernelspec": {
   "display_name": "Python 3",
   "language": "python",
   "name": "python3"
  },
  "language_info": {
   "codemirror_mode": {
    "name": "ipython",
    "version": 3
   },
   "file_extension": ".py",
   "mimetype": "text/x-python",
   "name": "python",
   "nbconvert_exporter": "python",
   "pygments_lexer": "ipython3",
   "version": "3.6.4"
  }
 },
 "nbformat": 4,
 "nbformat_minor": 2
}
